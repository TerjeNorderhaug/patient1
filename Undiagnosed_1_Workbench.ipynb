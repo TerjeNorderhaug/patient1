{
  "nbformat": 4,
  "nbformat_minor": 0,
  "metadata": {
    "colab": {
      "name": "Undiagnosed-1 Workbench.ipynb",
      "version": "0.3.2",
      "provenance": [],
      "collapsed_sections": [],
      "include_colab_link": true
    },
    "kernelspec": {
      "name": "python2",
      "display_name": "Python 2"
    }
  },
  "cells": [
    {
      "cell_type": "markdown",
      "metadata": {
        "id": "view-in-github",
        "colab_type": "text"
      },
      "source": [
        "<a href=\"https://colab.research.google.com/github/TerjeNorderhaug/patient1/blob/master/Undiagnosed_1_Workbench.ipynb\" target=\"_parent\"><img src=\"https://colab.research.google.com/assets/colab-badge.svg\" alt=\"Open In Colab\"/></a>"
      ]
    },
    {
      "cell_type": "markdown",
      "metadata": {
        "id": "2w3KOcSgA0Os",
        "colab_type": "text"
      },
      "source": [
        "# Undiagnosed-1 Workbench by Patient1\n",
        "\n"
      ]
    },
    {
      "cell_type": "markdown",
      "metadata": {
        "id": "YCNEvdqu3dAr",
        "colab_type": "text"
      },
      "source": [
        "## Install Tensorflow 2\n",
        "\n",
        "Using Tensorflow Nightly Preview as  Clairvoyante  is incompatible with 2.0.0-alpha0"
      ]
    },
    {
      "cell_type": "code",
      "metadata": {
        "id": "EeKR_vGGAzwF",
        "colab_type": "code",
        "colab": {}
      },
      "source": [
        "!pip install tf-nightly-gpu-2.0-preview\n",
        "\n",
        "import tensorflow as tf\n",
        "print(tf.__version__)"
      ],
      "execution_count": 0,
      "outputs": []
    },
    {
      "cell_type": "markdown",
      "metadata": {
        "id": "cQVPMgEm0Czs",
        "colab_type": "text"
      },
      "source": [
        "## Install Nucleus\n",
        "\n",
        "[Nucleus](https://github.com/google/nucleus) is a library of Python code for reading, writing, and filtering common genomics file formats for conversion to TensorFlow examples. This installation works with TF2.\n",
        "\n"
      ]
    },
    {
      "cell_type": "code",
      "metadata": {
        "id": "LNjW4REKf6gf",
        "colab_type": "code",
        "colab": {}
      },
      "source": [
        "!pip install -q google-nucleus==0.2.2  # Other versions refuses TF2\n",
        "\n",
        "from __future__ import absolute_import\n",
        "from __future__ import division\n",
        "from __future__ import print_function\n",
        "\n",
        "import os\n",
        "import random\n",
        "\n",
        "import numpy as np\n",
        "import tensorflow as tf\n",
        "\n",
        "from nucleus.io import fasta\n",
        "from nucleus.io import sam\n",
        "from nucleus.io import vcf\n",
        "from nucleus.io.genomics_writer import TFRecordWriter\n",
        "from nucleus.protos import reads_pb2\n",
        "from nucleus.util import cigar\n",
        "from nucleus.util import ranges\n",
        "from nucleus.util import utils"
      ],
      "execution_count": 0,
      "outputs": []
    },
    {
      "cell_type": "markdown",
      "metadata": {
        "id": "8ZP-XyJLsFVD",
        "colab_type": "text"
      },
      "source": [
        "## Clairvoyante TF2 Update\n",
        "\n",
        "[Clairvoyante](https://github.com/aquaskyline/Clairvoyante) is a Tensorflow based variant caller, a multi-task five-layer convolutional neural network model for predicting variant type, zygosity, alternative allele and Indel length. **We have upgraded it for Tensorflow 2.**"
      ]
    },
    {
      "cell_type": "code",
      "metadata": {
        "id": "XavzpkQ2AkQK",
        "colab_type": "code",
        "colab": {}
      },
      "source": [
        "import os\n",
        "! rm -r Clairvoyante_download\n",
        "! git clone --depth=1 https://github.com/aquaskyline/Clairvoyante.git Clairvoyante_download\n",
        "print(os.listdir('./Clairvoyante_download'))"
      ],
      "execution_count": 0,
      "outputs": []
    },
    {
      "cell_type": "code",
      "metadata": {
        "id": "Q8UGcnf9BLmu",
        "colab_type": "code",
        "colab": {}
      },
      "source": [
        "!rm -r ./Clairvoyante\n",
        "!rm -r ./Clairvoyante_tmp\n",
        "!cp -r ./Clairvoyante_download ./Clairvoyante_tmp\n",
        "# tf_upgrade_v2 script assumes tensorflow is imported as 'tf' for pattern matching\n",
        "!find ./Clairvoyante_tmp -type f -name \"*.py\" -print0 | xargs -0 sed -i '' -e 's/tensorflow\\./tf\\./g'\n",
        "!tf_upgrade_v2 --intree ./Clairvoyante_tmp --outtree ./Clairvoyante"
      ],
      "execution_count": 0,
      "outputs": []
    },
    {
      "cell_type": "code",
      "metadata": {
        "id": "9CFQsGIAUHvA",
        "colab_type": "code",
        "colab": {}
      },
      "source": [
        "import os\n",
        "import tensorflow as tf\n",
        "from tensorflow.keras import layers\n",
        "import tensorflow.python.framework\n",
        "import tensorflow.python.ops\n",
        "from tensorflow.python.layers import utils\n",
        "from tensorflow.keras.initializers import VarianceScaling\n",
        "\n",
        "!find ./Clairvoyante -type f -name \"selu.py\" -print0 | xargs -0 sed -i '' -e 's/from tf.contrib import layers/from tensorflow.keras.initializers import VarianceScaling/g'\n",
        "!find ./Clairvoyante -type f -name \"selu.py\" -print0 | xargs -0 sed -i '' -e \"s/layers.variance_scaling_initializer(factor=1.0, mode='FAN_IN')/VarianceScaling\\(scale=1.0, mode='fan_in'\\)/g\"\n",
        "!find ./Clairvoyante -type f -name \"clairvoyante_v3.py\" -print0 | xargs -0 sed -i '' -e \"s/import selu/import selu\\nfrom tensorflow.keras.initializers import VarianceScaling/g\"\n",
        "!find ./Clairvoyante -type f -name \"clairvoyante_v3.py\" -print0 | xargs -0 sed -i '' -e \"s/tf.contrib.layers.variance_scaling_initializer(factor=2.0, mode='FAN_IN', uniform=False)/VarianceScaling(scale=1.0, mode='fan_in', distribution='truncated_normal')/g\"\n",
        "\n",
        "# Missed by the upgrade script:\n",
        "!find ./Clairvoyante -type f -name \"*.py\" -print0 | xargs -0 sed -i '' -e 's/tf.python.framework/tensorflow.python.framework/g'\n",
        "!find ./Clairvoyante -type f -name \"*.py\" -print0 | xargs -0 sed -i '' -e 's/tf.python.ops/tensorflow.python.ops/g'\n",
        "!find ./Clairvoyante -type f -name \"*.py\" -print0 | xargs -0 sed -i '' -e 's/tf.contrib.layers.python.layers/tensorflow.python.layers/g'\n",
        "!find ./Clairvoyante -type f -name \"*.py\" -print0 | xargs -0 sed -i '' -e 's/tf.contrib.layers.python.layers/tensorflow.python.layers/g'\n",
        "\n",
        "\n",
        "print(os.listdir('./Clairvoyante'))\n",
        "!cat \"./Clairvoyante/clairvoyante/selu.py\""
      ],
      "execution_count": 0,
      "outputs": []
    },
    {
      "cell_type": "code",
      "metadata": {
        "id": "2QExISHe4i5Z",
        "colab_type": "code",
        "colab": {}
      },
      "source": [
        "# !pip install --upgrade setuptools pip\n",
        "!pip install blosc\n",
        "!pip install intervaltree==2.1.0\n",
        "!pip install numpy"
      ],
      "execution_count": 0,
      "outputs": []
    },
    {
      "cell_type": "code",
      "metadata": {
        "id": "L8guRsNJCpVm",
        "colab_type": "code",
        "colab": {}
      },
      "source": [
        "import os\n",
        "import sys\n",
        "print(os.listdir('.'))\n",
        "print(os.listdir('./Clairvoyante'))\n",
        "print(os.listdir('./Clairvoyante/clairvoyante'))\n",
        "sys.path.append('./Clairvoyante')\n",
        "# sys.path.append('./Clairvoyante/clairvoyante')"
      ],
      "execution_count": 0,
      "outputs": []
    },
    {
      "cell_type": "markdown",
      "metadata": {
        "id": "qVh9QSmIy7oK",
        "colab_type": "text"
      },
      "source": [
        "### Accelerate with PyPy"
      ]
    },
    {
      "cell_type": "code",
      "metadata": {
        "id": "ttaXU2BIPa-L",
        "colab_type": "code",
        "colab": {}
      },
      "source": [
        "!apt-get -y install pypy samtools wget pypy-dev parallel\n",
        "!wget https://bootstrap.pypa.io/get-pip.py\n",
        "!sudo pypy get-pip.py \n",
        "!sudo pypy -m pip install intervaltree "
      ],
      "execution_count": 0,
      "outputs": []
    },
    {
      "cell_type": "markdown",
      "metadata": {
        "id": "VwZ5LD27hP27",
        "colab_type": "text"
      },
      "source": [
        "# Variant Calling\n",
        "\n",
        "The data for Undiagnosed-1 is only available for the participants and could not be included in this public notebook. Substitute with the data links below."
      ]
    },
    {
      "cell_type": "code",
      "metadata": {
        "id": "802rC2HDAn_i",
        "colab_type": "code",
        "colab": {}
      },
      "source": [
        "!wget 'http://www.bio8.cs.hku.hk/training.tar'\n",
        "!tar -xf training.tar\n",
        "\n",
        "!cd Clairvoyante\n",
        "!curl http://www.bio8.cs.hku.hk/trainedModels.tbz | tar -jxf -\n",
        "  \n",
        "print(os.listdir('./trainedModels/fullv3-illumina-novoalign-hg001+hg002-hg38/'))\n",
        "trained_model = \"../trainedModels/fullv3-illumina-novoalign-hg001+hg002-hg38/learningRate1e-3.epoch500\"\n",
        "tensor_file = \"tensor_can_chr21\"\n",
        "variant_calls_file = \"tensor_can_chr21.vcf\"\n"
      ],
      "execution_count": 0,
      "outputs": []
    },
    {
      "cell_type": "code",
      "metadata": {
        "id": "vcAlMbVRKaQk",
        "colab_type": "code",
        "colab": {}
      },
      "source": [
        "import os\n",
        "import sys\n",
        "import clairvoyante.utils_v2\n",
        "import clairvoyante.clairvoyante_v3\n",
        "import clairvoyante.callVar\n",
        "from mock import patch\n",
        "\n",
        "\n",
        "def call_variants (trained_model, tensor_file, variant_calls_file):\n",
        "  args = \\\n",
        "  [\"callVar.py\",\n",
        "   \"--chkpnt_fn\", trained_model, \\\n",
        "   \"--tensor_fn\", tensor_file, \\\n",
        "   \"--call_fn\", variant_calls_file]\n",
        "\n",
        "  try:\n",
        "    os.chdir(\"./training\")\n",
        "    with patch.object(sys, 'argv', args):\n",
        "      clairvoyante.callVar.main()\n",
        "  finally:\n",
        "    os.chdir(\"..\")\n",
        " \n",
        "\n",
        "call_variants (trained_model, tensor_file, variant_calls_file)"
      ],
      "execution_count": 0,
      "outputs": []
    },
    {
      "cell_type": "markdown",
      "metadata": {
        "id": "KnjZeT-eDLXJ",
        "colab_type": "text"
      },
      "source": [
        "### Verify variants\n",
        "\n"
      ]
    },
    {
      "cell_type": "code",
      "metadata": {
        "id": "cB59qGq8tSAn",
        "colab_type": "code",
        "colab": {}
      },
      "source": [
        "with open('./training/tensor_can_chr21.vcf', mode='r') as vcf:\n",
        "    print(vcf.read())"
      ],
      "execution_count": 0,
      "outputs": []
    },
    {
      "cell_type": "markdown",
      "metadata": {
        "id": "e5eHxMUsl67k",
        "colab_type": "text"
      },
      "source": [
        "## View Variants"
      ]
    },
    {
      "cell_type": "code",
      "metadata": {
        "id": "f4Yw55v6leUg",
        "colab_type": "code",
        "colab": {}
      },
      "source": [
        "import matplotlib.pyplot as plt\n",
        "import numpy as np\n",
        "import clairvoyante.utils_v2 as utils\n",
        "from clairvoyante.getTensorAndLayerPNG import PlotTensor\n",
        "\n",
        "# Load the trained dataset\n",
        "total, XArrayCompressed, YArrayCompressed, posArrayCompressed = \\\n",
        "  utils.GetTrainingArray(\"./training/tensor_can_chr21\",\n",
        "                         \"./training/var_chr21\",\n",
        "                         \"./training/bed\",\n",
        "                         shuffle = False)\n",
        "\n",
        "def show_variant_tensors (i = 0):\n",
        "  XArray, _, _ = utils.DecompressArray(XArrayCompressed, i, 1, total)\n",
        "  fig = plt.figure(figsize=(15, 8));\n",
        "  fig.suptitle(\"Variant {0}\".format(i), fontsize=16)\n",
        "  def tensor_subplot(ix, vmin=0, cmap=plt.cm.hot):\n",
        "    plt.subplot(4,1,ix); \n",
        "    plt.xticks(np.arange(0, 33, 1)); \n",
        "    plt.yticks(np.arange(0, 4, 1), ['A','C','G','T'])\n",
        "    plt.imshow(XArray[0,:,:,ix-1].transpose(), vmin=vmin, vmax=50, interpolation=\"nearest\", cmap=cmap); \n",
        "    plt.colorbar()\n",
        "  tensor_subplot(1);\n",
        "  tensor_subplot(2, vmin=-50, cmap=plt.cm.bwr)\n",
        "  tensor_subplot(3, vmin=-50, cmap=plt.cm.bwr)\n",
        "  tensor_subplot(4, vmin=-50, cmap=plt.cm.bwr)\n",
        "  plt.show()\n",
        "\n",
        "print(\"Total:\", total)"
      ],
      "execution_count": 0,
      "outputs": []
    },
    {
      "cell_type": "code",
      "metadata": {
        "id": "3HUSggI2mIgu",
        "colab_type": "code",
        "colab": {}
      },
      "source": [
        "show_variant_tensors(1000)\n",
        "show_variant_tensors(1002)\n",
        "\n",
        "for i in range(10,20):\n",
        "  show_variant_tensors(i)"
      ],
      "execution_count": 0,
      "outputs": []
    },
    {
      "cell_type": "markdown",
      "metadata": {
        "id": "AzXYfwOvwHFi",
        "colab_type": "text"
      },
      "source": [
        "## Inspect Variants With Nucleus"
      ]
    },
    {
      "cell_type": "code",
      "metadata": {
        "id": "vhLdGP005_y4",
        "colab_type": "code",
        "colab": {}
      },
      "source": [
        "from nucleus.io import vcf\n",
        "\n",
        "with vcf.VcfReader('./training/tensor_can_chr21.vcf') as reader:\n",
        "  print('Sample names in VCF: ', ' '.join(reader.header.sample_names))\n",
        "  with vcf.VcfWriter('/tmp/filtered.tfrecord', header=reader.header) as writer:\n",
        "    for variant in reader:\n",
        "      print(variant)\n",
        "      if variant.quality > 3.01:\n",
        "        writer.write(variant)"
      ],
      "execution_count": 0,
      "outputs": []
    },
    {
      "cell_type": "markdown",
      "metadata": {
        "id": "aBrKckxck1MX",
        "colab_type": "text"
      },
      "source": [
        "## Variant Calling On Generated Data\n",
        "\n",
        "Grab a coffee while you wait..."
      ]
    },
    {
      "cell_type": "code",
      "metadata": {
        "id": "e_mWFw5rpfM4",
        "colab_type": "code",
        "colab": {}
      },
      "source": [
        "!wget 'http://www.bio8.cs.hku.hk/testingData.tar'\n",
        "!tar -xf testingData.tar\n",
        "\n",
        "print(os.listdir('.'))\n",
        "\n",
        "!cd dataPrepScripts\n",
        "!sh PrepDataBeforeDemo.sh"
      ],
      "execution_count": 0,
      "outputs": []
    },
    {
      "cell_type": "code",
      "metadata": {
        "id": "bvbA7Q2gCwYJ",
        "colab_type": "code",
        "colab": {}
      },
      "source": [
        "import sys\n",
        "import clairvoyante.callVarBam\n",
        "from mock import patch\n",
        "\n",
        "print(os.getcwd())\n",
        "\n",
        "print(os.listdir('.'))\n",
        "print(\"Trained Models:\", os.listdir('./trainedModels/'))\n",
        "print(os.listdir('./trainedModels/fullv3-illumina-novoalign-hg001+hg002-hg38/'))\n",
        "print(\"TestingData:\", os.listdir('./testingData/chr21'))\n",
        "print(\"Training:\", os.listdir('./training/'))\n",
        "\n",
        "def call_var_bam(outfile):\n",
        "  # Hack to override sysargs.\n",
        "  args = \\\n",
        "  [\"callVarBam.py\", \n",
        "   \"--chkpnt_fn\", \"../trainedModels/fullv3-illumina-novoalign-hg001+hg002-hg38/learningRate1e-3.epoch500\", \\\n",
        "   \"--bam_fn\", \"../testingData/chr21/chr21.bam\", \\\n",
        "   \"--ref_fn\", \"../testingData/chr21/chr21.fa\", \\\n",
        "   \"--bed_fn\", \"../testingData/chr21/chr21.bed\", \\\n",
        "   \"--call_fn\", outfile,  \\\n",
        "   \"--ctgName\", \"chr21\"]\n",
        "  try:\n",
        "    os.chdir(\"./training\")\n",
        "    with patch.object(sys, 'argv', args):\n",
        "      clairvoyante.callVarBam.main()\n",
        "  finally:\n",
        "    os.chdir(\"..\")\n",
        "  \n",
        "\n",
        "call_var_bam(\"chr21_calls.vcf\")"
      ],
      "execution_count": 0,
      "outputs": []
    }
  ]
}